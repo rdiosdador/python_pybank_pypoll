{
 "cells": [
  {
   "cell_type": "code",
   "execution_count": 5,
   "metadata": {},
   "outputs": [],
   "source": [
    "import os\n",
    "import csv"
   ]
  },
  {
   "cell_type": "code",
   "execution_count": 6,
   "metadata": {},
   "outputs": [],
   "source": [
    "electionData = os.path.join(\"Resources\",\"election_data.csv\")"
   ]
  },
  {
   "cell_type": "code",
   "execution_count": 7,
   "metadata": {},
   "outputs": [],
   "source": [
    "candidates = []\n",
    "numVotes = []\n",
    "percentVotes = []\n",
    "totalVotes = 0"
   ]
  },
  {
   "cell_type": "code",
   "execution_count": 10,
   "metadata": {},
   "outputs": [
    {
     "name": "stdout",
     "output_type": "stream",
     "text": [
      "['VoterId', 'Country', 'Candidate']\n"
     ]
    }
   ],
   "source": [
    "with open(electionData, newline = \"\") as csvfile:\n",
    "    csvreader = csv.reader(csvfile, delimiter = \",\")\n",
    "    csvHeader = next(csvreader)"
   ]
  },
  {
   "cell_type": "code",
   "execution_count": null,
   "metadata": {},
   "outputs": [],
   "source": [
    "    for row in csvreader:\n",
    "        # Add to our vote-counter \n",
    "        total_votes += 1 \n",
    "\n",
    "        '''\n",
    "        If the candidate is not on our list, add his/her name to our list, along with \n",
    "        a vote in his/her name.\n",
    "        If he/she is already on our list, we will simply add a vote in his/her\n",
    "        name \n",
    "        '''\n",
    "        if row[2] not in candidates:\n",
    "            candidates.append(row[2])\n",
    "            index = candidates.index(row[2])\n",
    "            numVotes.append(1)\n",
    "        else:\n",
    "            index = candidates.index(row[2])\n",
    "            num_votes[index] += 1\n",
    "    \n"
   ]
  },
  {
   "cell_type": "code",
   "execution_count": null,
   "metadata": {},
   "outputs": [],
   "source": [
    "    # Add to percent_votes list \n",
    "    for votes in num_votes:\n",
    "        percentage = (votes/total_votes) * 100\n",
    "        percentage = round(percentage)\n",
    "        percentage = \"%.3f%%\" % percentage\n",
    "        percent_votes.append(percentage)\n",
    "    \n",
    "    # Find the winning candidate\n",
    "    winner = max(num_votes)\n",
    "    index = num_votes.index(winner)\n",
    "    winning_candidate = candidates[index]\n",
    "\n",
    "# Displaying results\n",
    "print(\"Election Results\")\n",
    "print(\"--------------------------\")\n",
    "print(f\"Total Votes: {str(total_votes)}\")\n",
    "print(\"--------------------------\")\n",
    "for i in range(len(candidates)):\n",
    "    print(f\"{candidates[i]}: {str(percent_votes[i])} ({str(num_votes[i])})\")\n",
    "print(\"--------------------------\")\n",
    "print(f\"Winner: {winning_candidate}\")\n",
    "print(\"--------------------------\")\n"
   ]
  }
 ],
 "metadata": {
  "kernelspec": {
   "display_name": "Python 3",
   "language": "python",
   "name": "python3"
  },
  "language_info": {
   "codemirror_mode": {
    "name": "ipython",
    "version": 3
   },
   "file_extension": ".py",
   "mimetype": "text/x-python",
   "name": "python",
   "nbconvert_exporter": "python",
   "pygments_lexer": "ipython3",
   "version": "3.7.3"
  }
 },
 "nbformat": 4,
 "nbformat_minor": 2
}
