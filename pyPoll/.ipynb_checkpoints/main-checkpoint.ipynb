{
 "cells": [
  {
   "cell_type": "code",
   "execution_count": 1,
   "metadata": {},
   "outputs": [],
   "source": [
    "import os\n",
    "import csv"
   ]
  },
  {
   "cell_type": "code",
   "execution_count": 2,
   "metadata": {},
   "outputs": [],
   "source": [
    "filePath = os.path.join(\"Resources\",\"election_data.csv\")\n",
    "pathOut = os.path.join(\"Resources\",\"election_data_Analysis.txt\")"
   ]
  },
  {
   "cell_type": "code",
   "execution_count": 3,
   "metadata": {},
   "outputs": [],
   "source": [
    "numVotes = 0\n",
    "candidates = []\n",
    "voteCounts = []"
   ]
  },
  {
   "cell_type": "code",
   "execution_count": 5,
   "metadata": {},
   "outputs": [],
   "source": [
    "with open(filePath,newline=\"\") as csvfile:\n",
    "    csvreader = csv.reader(csvfile, delimiter = \",\")\n",
    "\n",
    "    line = next(csvreader)\n",
    "\n",
    "    for line in csvreader:\n",
    "\n",
    "        \n",
    "        numVotes = numVotes + 1\n",
    "\n",
    "        \n",
    "        candidate = line[2]\n",
    "\n",
    "    \n",
    "        if candidate in candidates:\n",
    "            candidate_index = candidates.index(candidate)\n",
    "            voteCounts[candidate_index] = voteCounts[candidate_index] + 1\n",
    "        \n",
    "        else:\n",
    "            candidates.append(candidate)\n",
    "            voteCounts.append(1)"
   ]
  },
  {
   "cell_type": "code",
   "execution_count": 8,
   "metadata": {},
   "outputs": [],
   "source": [
    "percentages = []\n",
    "maxVotes = voteCounts[0]\n",
    "maxIndex = 0\n",
    "\n",
    "for count in range(len(candidates)):\n",
    "    votePercentage = voteCounts[count]/numVotes*100\n",
    "    percentages.append(votePercentage)\n",
    "    if voteCounts[count] > maxVotes:\n",
    "        maxVotes = voteCounts[count]\n",
    "        print(maxVotes)\n",
    "        maxIndex = count\n",
    "winner = candidates[maxIndex]"
   ]
  },
  {
   "cell_type": "code",
   "execution_count": 10,
   "metadata": {
    "scrolled": true
   },
   "outputs": [
    {
     "name": "stdout",
     "output_type": "stream",
     "text": [
      "Election Results \n",
      "----------------------------------- \n",
      "Total Votes: 1,048,575.00\n",
      "Khan: 63.09% (661,583.00)\n",
      "Correy: 19.94% (209,046.00)\n",
      "Li: 13.96% (146,360.00)\n",
      "O'Tooley: 3.01% (31,586.00)\n",
      "----------------------------------- \n",
      "Winner: Khan\n",
      "----------------------------------- \n",
      "\n"
     ]
    }
   ],
   "source": [
    "output = (\n",
    "    f\"Election Results \\n\"\n",
    "    f\"----------------------------------- \\n\"\n",
    "    f\"Total Votes: {numVotes:,.2f}\\n\"\n",
    "    f\"{candidates[0]}: {percentages[0]:.2f}% ({voteCounts[0]:,.2f})\\n\"\n",
    "    f\"{candidates[1]}: {percentages[1]:.2f}% ({voteCounts[1]:,.2f})\\n\"\n",
    "    f\"{candidates[2]}: {percentages[2]:.2f}% ({voteCounts[2]:,.2f})\\n\"\n",
    "    f\"{candidates[3]}: {percentages[3]:.2f}% ({voteCounts[3]:,.2f})\\n\"\n",
    "    f\"----------------------------------- \\n\"\n",
    "    f\"Winner: {winner}\\n\"\n",
    "    f\"----------------------------------- \\n\"\n",
    ")\n",
    "\n",
    "print(output)"
   ]
  },
  {
   "cell_type": "code",
   "execution_count": null,
   "metadata": {},
   "outputs": [],
   "source": [
    "with open(pathOut, \"w\") as txt_file:\n",
    "    txt_file.write(output)"
   ]
  }
 ],
 "metadata": {
  "kernelspec": {
   "display_name": "Python 3",
   "language": "python",
   "name": "python3"
  },
  "language_info": {
   "codemirror_mode": {
    "name": "ipython",
    "version": 3
   },
   "file_extension": ".py",
   "mimetype": "text/x-python",
   "name": "python",
   "nbconvert_exporter": "python",
   "pygments_lexer": "ipython3",
   "version": "3.7.3"
  }
 },
 "nbformat": 4,
 "nbformat_minor": 2
}
