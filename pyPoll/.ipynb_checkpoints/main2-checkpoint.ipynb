{
 "cells": [
  {
   "cell_type": "code",
   "execution_count": 1,
   "metadata": {},
   "outputs": [],
   "source": [
    "import os\n",
    "import csv"
   ]
  },
  {
   "cell_type": "code",
   "execution_count": 2,
   "metadata": {},
   "outputs": [],
   "source": [
    "file_name = \"election_data.csv\"\n",
    "filepath = os.path.join(\"Resources\",\"election_data.csv\")\n",
    "pathout = os.path.join(\"Resources\",\"election_data_Analysis.txt\")"
   ]
  },
  {
   "cell_type": "code",
   "execution_count": 3,
   "metadata": {},
   "outputs": [],
   "source": [
    "num_votes = 0\n",
    "candidates = []\n",
    "vote_counts = []\n"
   ]
  },
  {
   "cell_type": "code",
   "execution_count": 4,
   "metadata": {},
   "outputs": [],
   "source": [
    "with open(filepath,newline=\"\") as csvfile:\n",
    "    csvreader = csv.reader(csvfile, delimiter = \",\")\n",
    "\n",
    "    #skip the header\n",
    "    line = next(csvreader)\n",
    "\n",
    "    #go line by line and process each vote\n",
    "    for line in csvreader:\n",
    "\n",
    "        #add to total number of votes\n",
    "        num_votes = num_votes + 1\n",
    "\n",
    "        #candidate voted for\n",
    "        candidate = line[2]\n",
    "\n",
    "        #if candidate has other votes then add to vote tally\n",
    "        if candidate in candidates:\n",
    "            candidate_index = candidates.index(candidate)\n",
    "            vote_counts[candidate_index] = vote_counts[candidate_index] + 1\n",
    "        #else create new spot in list for candidate\n",
    "        else:\n",
    "            candidates.append(candidate)\n",
    "            vote_counts.append(1)"
   ]
  },
  {
   "cell_type": "code",
   "execution_count": 5,
   "metadata": {},
   "outputs": [],
   "source": [
    "percentages = []\n",
    "max_votes = vote_counts[0]\n",
    "max_index = 0\n",
    "\n",
    "for count in range(len(candidates)):\n",
    "    vote_percentage = vote_counts[count]/num_votes*100\n",
    "    percentages.append(vote_percentage)\n",
    "    if vote_counts[count] > max_votes:\n",
    "        max_votes = vote_counts[count]\n",
    "        print(max_votes)\n",
    "        max_index = count\n",
    "winner = candidates[max_index]"
   ]
  },
  {
   "cell_type": "code",
   "execution_count": 18,
   "metadata": {
    "scrolled": true
   },
   "outputs": [
    {
     "name": "stdout",
     "output_type": "stream",
     "text": [
      "Election Results \n",
      "----------------------------------- \n",
      "Total Votes: 1,048,575.00\n",
      "Khan: 63.09% (661,583.00)\n",
      "Correy: 19.94% (209,046.00)\n",
      "Li: 13.96% (146,360.00)\n",
      "O'Tooley: 3.01% (31,586.00)\n",
      "----------------------------------- \n",
      "Winner: Khan\n",
      "----------------------------------- \n",
      "\n"
     ]
    }
   ],
   "source": [
    "output = (\n",
    "    f\"Election Results \\n\"\n",
    "    f\"----------------------------------- \\n\"\n",
    "    f\"Total Votes: {num_votes:,.2f}\\n\"\n",
    "    f\"{candidates[0]}: {percentages[0]:.2f}% ({vote_counts[0]:,.2f})\\n\"\n",
    "    f\"{candidates[1]}: {percentages[1]:.2f}% ({vote_counts[1]:,.2f})\\n\"\n",
    "    f\"{candidates[2]}: {percentages[2]:.2f}% ({vote_counts[2]:,.2f})\\n\"\n",
    "    f\"{candidates[3]}: {percentages[3]:.2f}% ({vote_counts[3]:,.2f})\\n\"\n",
    "    f\"----------------------------------- \\n\"\n",
    "    f\"Winner: {winner}\\n\"\n",
    "    f\"----------------------------------- \\n\"\n",
    ")\n",
    "\n",
    "print(output)"
   ]
  },
  {
   "cell_type": "code",
   "execution_count": 14,
   "metadata": {},
   "outputs": [],
   "source": [
    "with open(pathout, \"w\") as txt_file:\n",
    "    txt_file.write(output)"
   ]
  }
 ],
 "metadata": {
  "kernelspec": {
   "display_name": "Python 3",
   "language": "python",
   "name": "python3"
  },
  "language_info": {
   "codemirror_mode": {
    "name": "ipython",
    "version": 3
   },
   "file_extension": ".py",
   "mimetype": "text/x-python",
   "name": "python",
   "nbconvert_exporter": "python",
   "pygments_lexer": "ipython3",
   "version": "3.7.3"
  }
 },
 "nbformat": 4,
 "nbformat_minor": 2
}
