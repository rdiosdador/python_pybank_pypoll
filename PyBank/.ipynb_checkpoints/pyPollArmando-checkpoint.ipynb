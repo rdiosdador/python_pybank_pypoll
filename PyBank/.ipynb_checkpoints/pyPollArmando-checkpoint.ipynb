{
 "cells": [
  {
   "cell_type": "code",
   "execution_count": 1,
   "metadata": {},
   "outputs": [],
   "source": [
    "import os\n",
    "import csv"
   ]
  },
  {
   "cell_type": "code",
   "execution_count": 2,
   "metadata": {},
   "outputs": [],
   "source": [
    "budget_data = os.path.join(\"Resources\",\"budget_data.csv\")\n",
    "Analysis = os.path.join(\"Resources\", \"budget_analysis.txt\")"
   ]
  },
  {
   "cell_type": "code",
   "execution_count": 3,
   "metadata": {},
   "outputs": [],
   "source": [
    "total_months = 0\n",
    "total_pl = 0\n",
    "checker = 0\n",
    "change = 0\n",
    "dates = []\n",
    "pnl = []"
   ]
  },
  {
   "cell_type": "code",
   "execution_count": 4,
   "metadata": {},
   "outputs": [
    {
     "name": "stdout",
     "output_type": "stream",
     "text": [
      "['Date', 'Profit/Losses']\n",
      "['Jan-2010', '867884']\n",
      "-2315.1176470588234\n"
     ]
    }
   ],
   "source": [
    "with open(budget_data, newline = \"\") as csvfile:\n",
    "    \n",
    "    csvreader = csv.reader(csvfile, delimiter = \",\")\n",
    "\n",
    "    csv_header = next(csvreader)\n",
    "    \n",
    "    print(csv_header)\n",
    "    \n",
    "    first_row = next(csvreader)\n",
    "    \n",
    "    print(first_row)\n",
    "    \n",
    "    total_months = total_months + 1\n",
    "    \n",
    "    #print(total_months)\n",
    "    \n",
    "    total_pl += int(first_row[1])\n",
    "    checker = int(first_row[1])\n",
    "    \n",
    "    for row in csvreader:\n",
    "        \n",
    "        dates.append(row[0])\n",
    "        \n",
    "        change = int(row[1])-checker\n",
    "        pnl.append(change)\n",
    "        checker = int(row[1])\n",
    "\n",
    "        total_months += 1\n",
    "        \n",
    "        total_pl = total_pl + int(row[1])\n",
    "        \n",
    "    #Greatest increase in profits\n",
    "    greatest_increase = max(pnl)\n",
    "    greatest_index = pnl.index(greatest_increase)\n",
    "    greatest_date = dates[greatest_index] \n",
    "    \n",
    "    #Greatest decrease \n",
    "    greatest_decrease = min(pnl)\n",
    "    worst_index = pnl.index(greatest_decrease)\n",
    "    worst_date = dates[worst_index]\n",
    "    \n",
    "    #Average change    \n",
    "    avg_change = sum(pnl)/len(pnl)\n",
    "        \n",
    "    #print(total_months)\n",
    "    \n",
    "    #print(greatest_decrease)\n",
    "    \n",
    "    #print(worst_date)\n",
    "    \n",
    "    print(avg_change)\n",
    "        "
   ]
  },
  {
   "cell_type": "code",
   "execution_count": 14,
   "metadata": {},
   "outputs": [
    {
     "name": "stdout",
     "output_type": "stream",
     "text": [
      "Total Months: 86\n",
      "Total Revenue: 38382578\n",
      "Average Revenue Change: $-2315.1176470588234\n",
      "Greatest increase in profits and Loses: feb-12 $1926159\n",
      "Greatest decrease in profits and Loses: sep-13 $-2196167\n",
      "\n"
     ]
    }
   ],
   "source": [
    "report = (\n",
    "    f\"Total Months: {total_months}\\n\"\n",
    "    f\"Total Revenue: {total_pl:}\\n\"\n",
    "    f\"Average Revenue Change: ${avg_change}\\n\"\n",
    "    f\"Greatest increase in profits and Loses: {greatest_date} ${greatest_increase:}\\n\"\n",
    "    f\"Greatest decrease in profits and Loses: {worst_date} ${greatest_decrease:}\\n\"\n",
    ")\n",
    "\n",
    "print(report)\n",
    "\n",
    "\n",
    "\n",
    "\n"
   ]
  },
  {
   "cell_type": "code",
   "execution_count": 16,
   "metadata": {},
   "outputs": [],
   "source": [
    "with open(Analysis, \"w\") as txt_file:\n",
    "    txt_file.write(report) "
   ]
  }
 ],
 "metadata": {
  "kernelspec": {
   "display_name": "Python 3",
   "language": "python",
   "name": "python3"
  },
  "language_info": {
   "codemirror_mode": {
    "name": "ipython",
    "version": 3
   },
   "file_extension": ".py",
   "mimetype": "text/x-python",
   "name": "python",
   "nbconvert_exporter": "python",
   "pygments_lexer": "ipython3",
   "version": "3.7.3"
  }
 },
 "nbformat": 4,
 "nbformat_minor": 2
}
