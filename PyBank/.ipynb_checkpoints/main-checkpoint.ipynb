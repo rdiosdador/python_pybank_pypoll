{
 "cells": [
  {
   "cell_type": "code",
   "execution_count": 1,
   "metadata": {},
   "outputs": [],
   "source": [
    "import os\n",
    "import csv"
   ]
  },
  {
   "cell_type": "code",
   "execution_count": 2,
   "metadata": {},
   "outputs": [],
   "source": [
    "totalMonths = 0\n",
    "totalPL = 0\n",
    "value = 0\n",
    "change = 0\n",
    "dates = []\n",
    "profits = []\n"
   ]
  },
  {
   "cell_type": "code",
   "execution_count": 3,
   "metadata": {},
   "outputs": [],
   "source": [
    "filepath = os.path.join(\"Resources\",\"budget_data.csv\")\n",
    "pathout = os.path.join(\"Resources\", \"budget_analysis.txt\")"
   ]
  },
  {
   "cell_type": "code",
   "execution_count": 4,
   "metadata": {},
   "outputs": [],
   "source": [
    "with open(filepath, newline = \"\") as csvfile:\n",
    "    \n",
    "    csvreader = csv.reader(csvfile, delimiter = \",\")\n",
    "    \n",
    "    csv_header = next(csvreader)\n",
    "    \n",
    "    #print(csv_head)\n",
    "    \n",
    "    first_row = next(csvreader)\n",
    "    \n",
    "    #print(first_row)\n",
    "    \n",
    "    totalMonths = 1\n",
    "    \n",
    "    totalPL += int(first_row[1])\n",
    "    value = int(first_row[1])\n",
    "    \n",
    "\n",
    "    for row in csvreader:\n",
    "        \n",
    "        totalMonths += 1        \n",
    "        dates.append(row[0])\n",
    "        change = int(row[1])-value\n",
    "        profits.append(change)\n",
    "        value = int(row[1])\n",
    "        \n",
    "         \n",
    "        totalPL = totalPL + int(row[1])\n",
    "\n",
    "   \n",
    "    greatestIncrease = max(profits)\n",
    "    greatestIndex = profits.index(greatestIncrease)\n",
    "    greatestDate = dates[greatestIndex]\n",
    "\n",
    "     \n",
    "    greatestDecrease = min(profits)\n",
    "    worstIndex = profits.index(greatestDecrease)\n",
    "    worstDate = dates[worstIndex]\n",
    "\n",
    "   \n",
    "    avgChange = sum(profits)/len(profits)\n",
    "    \n",
    "    \n",
    "    #print(profits.index(max(profits)))\n",
    "    #print(profits.index(min(profits)))\n",
    "    \n",
    "      "
   ]
  },
  {
   "cell_type": "code",
   "execution_count": 5,
   "metadata": {},
   "outputs": [
    {
     "name": "stdout",
     "output_type": "stream",
     "text": [
      "Total Months: 86\n",
      "---------------------------------------------------- \n",
      "Total P & L: 38,382,578.00\n",
      "Average P & L Change: $-2,315.12\n",
      "Greatest increase in P & L: feb-12 ($1,926,159.00)\n",
      "Greatest decrease in P & L: sep-13 ($-2,196,167.00)\n",
      "\n"
     ]
    }
   ],
   "source": [
    "output = (\n",
    "    f\"Total Months: {totalMonths}\\n\"\n",
    "    f\"---------------------------------------------------- \\n\"\n",
    "    f\"Total P & L: {totalPL:,.2f}\\n\"\n",
    "    f\"Average P & L Change: ${avgChange:,.2f}\\n\"\n",
    "    f\"Greatest increase in P & L: {greatestDate} (${greatestIncrease:,.2f})\\n\"\n",
    "    f\"Greatest decrease in P & L: {worstDate} (${greatestDecrease:,.2f})\\n\"\n",
    ")\n",
    "\n",
    "print(output)\n",
    "         "
   ]
  },
  {
   "cell_type": "code",
   "execution_count": 6,
   "metadata": {},
   "outputs": [],
   "source": [
    "with open(pathout, \"w\") as txt_file:\n",
    "    txt_file.write(output)"
   ]
  }
 ],
 "metadata": {
  "kernelspec": {
   "display_name": "Python 3",
   "language": "python",
   "name": "python3"
  },
  "language_info": {
   "codemirror_mode": {
    "name": "ipython",
    "version": 3
   },
   "file_extension": ".py",
   "mimetype": "text/x-python",
   "name": "python",
   "nbconvert_exporter": "python",
   "pygments_lexer": "ipython3",
   "version": "3.7.3"
  }
 },
 "nbformat": 4,
 "nbformat_minor": 2
}
