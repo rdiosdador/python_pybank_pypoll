{
 "cells": [
  {
   "cell_type": "code",
   "execution_count": 1,
   "metadata": {},
   "outputs": [],
   "source": [
    "#Importing the necessary modules/libraries\n",
    "import os\n",
    "import csv"
   ]
  },
  {
   "cell_type": "code",
   "execution_count": 2,
   "metadata": {},
   "outputs": [],
   "source": [
    "totalMonths = 0\n",
    "totalPL = 0\n",
    "value = 0\n",
    "change = 0\n",
    "dates = []\n",
    "profits = []\n"
   ]
  },
  {
   "cell_type": "code",
   "execution_count": 3,
   "metadata": {},
   "outputs": [],
   "source": [
    "budget_data = os.path.join(\"Resources\",\"budget_data.csv\")\n",
    "pathout = os.path.join(\"Resources\", \"budget_analysis2.txt\")\n",
    "\n",
    "#Opening and reading the CSV file\n",
    "with open(budget_data, newline = \"\") as csvfile:\n",
    "    csvreader = csv.reader(csvfile, delimiter = \",\")\n",
    "    \n",
    "    csv_head = next(csvreader)\n",
    "    \n",
    "    #print(csv_head)\n",
    "    \n",
    "    first_row = next(csvreader)\n",
    "    \n",
    "    #print(first_row)\n",
    "    \n",
    "    totalMonths = 1\n",
    "    \n",
    "    totalPL += int(first_row[1])\n",
    "    value = int(first_row[1])\n",
    "    \n",
    "\n",
    "    for row in csvreader:\n",
    "        \n",
    "        totalMonths += 1        \n",
    "        dates.append(row[0])\n",
    "        change = int(row[1])-value\n",
    "        profits.append(change)\n",
    "        value = int(row[1])\n",
    "        \n",
    "         \n",
    "        totalPL = totalPL + int(row[1])\n",
    "\n",
    "   \n",
    "    greatestIncrease = max(profits)\n",
    "    greatestIndex = profits.index(greatestIncrease)\n",
    "    greatestDate = dates[greatestIndex]\n",
    "\n",
    "     \n",
    "    greatestDecrease = min(profits)\n",
    "    worstIndex = profits.index(greatestDecrease)\n",
    "    worstDate = dates[worstIndex]\n",
    "\n",
    "   \n",
    "    avgChange = sum(profits)/len(profits)\n",
    "    \n",
    "      "
   ]
  },
  {
   "cell_type": "code",
   "execution_count": 10,
   "metadata": {},
   "outputs": [
    {
     "name": "stdout",
     "output_type": "stream",
     "text": [
      "Total Months: 86\n",
      "---------------------------------------------------- \n",
      "Total Revenue: 38,382,578.00\n",
      "Average Revenue Change: $-2,315.12\n",
      "Greatest increase in Revenue: feb-12 ($1,926,159.00)\n",
      "Greatest decrease in Revenue: sep-13 ($-2,196,167.00)\n",
      "\n"
     ]
    }
   ],
   "source": [
    "output = (\n",
    "    f\"Total Months: {totalMonths}\\n\"\n",
    "    f\"---------------------------------------------------- \\n\"\n",
    "    f\"Total Revenue: {totalPL:,.2f}\\n\"\n",
    "    f\"Average Revenue Change: ${avgChange:,.2f}\\n\"\n",
    "    f\"Greatest increase in Revenue: {greatestDate} (${greatestIncrease:,.2f})\\n\"\n",
    "    f\"Greatest decrease in Revenue: {worstDate} (${greatestDecrease:,.2f})\\n\"\n",
    ")\n",
    "\n",
    "print(output)\n",
    "\n",
    "\n",
    "\n",
    "    \n",
    "    \n",
    "          "
   ]
  },
  {
   "cell_type": "code",
   "execution_count": 9,
   "metadata": {},
   "outputs": [],
   "source": [
    "with open(pathout, \"w\") as txt_file:\n",
    "    txt_file.write(output)"
   ]
  }
 ],
 "metadata": {
  "kernelspec": {
   "display_name": "Python 3",
   "language": "python",
   "name": "python3"
  },
  "language_info": {
   "codemirror_mode": {
    "name": "ipython",
    "version": 3
   },
   "file_extension": ".py",
   "mimetype": "text/x-python",
   "name": "python",
   "nbconvert_exporter": "python",
   "pygments_lexer": "ipython3",
   "version": "3.7.3"
  }
 },
 "nbformat": 4,
 "nbformat_minor": 2
}
